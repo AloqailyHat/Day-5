{
  "nbformat": 4,
  "nbformat_minor": 0,
  "metadata": {
    "colab": {
      "provenance": []
    },
    "kernelspec": {
      "name": "python3",
      "display_name": "Python 3"
    },
    "language_info": {
      "name": "python"
    }
  },
  "cells": [
    {
      "cell_type": "markdown",
      "source": [
        "### Task 1\n",
        "- Write a function named **'create_student_records'** that takes a list of tuples. Each tuple contains a student's name and their scores in three subjects. The function should return a list of dictionaries, where each dictionary represents a student with keys: name, subject1, subject2, subject3. Use list comprehension to create the list of dictionaries."
      ],
      "metadata": {
        "id": "EJBeaScrWCLM"
      }
    },
    {
      "cell_type": "code",
      "execution_count": 36,
      "metadata": {
        "colab": {
          "base_uri": "https://localhost:8080/"
        },
        "id": "ALyGJ40VOfHP",
        "outputId": "4bfcb493-e5c7-47b1-c1c9-dbcdec6a9b99"
      },
      "outputs": [
        {
          "output_type": "execute_result",
          "data": {
            "text/plain": [
              "[{'name': 'Norah', 'subject1': 85, 'subject2': 90, 'subject3': 88},\n",
              " {'name': 'Hadeel', 'subject1': 92, 'subject2': 88, 'subject3': 91},\n",
              " {'name': 'Ahmed', 'subject1': 78, 'subject2': 82, 'subject3': 84}]"
            ]
          },
          "metadata": {},
          "execution_count": 36
        }
      ],
      "source": [
        "# write your code here ^_^\n",
        "def create_student_records(student):\n",
        "    student_lst= [\n",
        "        {\n",
        "        'name':  name,\n",
        "        'subject1': subject1,\n",
        "        'subject2': subject2,\n",
        "        'subject3': subject3\n",
        "        }\n",
        "        for name, subject1, subject2, subject3 in student\n",
        "    ]\n",
        "    return student_lst\n",
        "\n",
        "records = [\n",
        "    (\"Heetaf\", 85, 90, 88),\n",
        "    (\"Haifa\", 92, 88, 91),\n",
        "    (\"Hatoon\", 78, 82, 84)\n",
        "]\n",
        "create_student_records(records)"
      ]
    },
    {
      "cell_type": "markdown",
      "source": [
        "### Task 2\n",
        "- Write a function named **'filter_and_sort_students'** that takes the list of dictionaries from Question 1 and returns a sorted list of student names who have an average score of 80 or more across all subjects. Sort the names in alphabetical order."
      ],
      "metadata": {
        "id": "EaxBieLZWBgh"
      }
    },
    {
      "cell_type": "code",
      "source": [
        "# write your code here ^_^\n",
        "def filter_and_sort_students(student_sort):\n",
        "    filter_stu = []\n",
        "\n",
        "    for student in student_sort:\n",
        "         if ((student['subject1']+ student['subject2'] + student['subject3']) / 3) >=80:\n",
        "            filter_stu.append(student['name'])\n",
        "    sorted_stu = sorted(filter_stu)\n",
        "    return sorted_stu\n"
      ],
      "metadata": {
        "id": "H7_z2xlyOjJv"
      },
      "execution_count": 32,
      "outputs": []
    },
    {
      "cell_type": "code",
      "source": [
        "test_input = [\n",
        "    (\"Norah\", 85, 90, 88),\n",
        "    (\"Hadeel\", 92, 88, 91),\n",
        "    (\"Ahmed\", 78, 82, 84)\n",
        "]\n",
        "\n",
        "flt = create_student_records(test_input)\n",
        "\n",
        "filter_and_sort_students(flt)"
      ],
      "metadata": {
        "colab": {
          "base_uri": "https://localhost:8080/"
        },
        "id": "ROzxLBG-Ot81",
        "outputId": "f2027e8a-888b-4cc8-e041-8782332bc615"
      },
      "execution_count": 33,
      "outputs": [
        {
          "output_type": "execute_result",
          "data": {
            "text/plain": [
              "['Ahmed', 'Hadeel', 'Norah']"
            ]
          },
          "metadata": {},
          "execution_count": 33
        }
      ]
    },
    {
      "cell_type": "markdown",
      "source": [
        "### Task 3\n",
        "- Write a function named **'get_product_info'** that prompts the user to enter information about a product. The function should ask for the product name, product price, and product quantity. If the user enters an invalid input (e.g., a non-numeric value for the price or quantity), the function should handle the error and prompt the user to enter the value again. Return a dictionary containing the product information."
      ],
      "metadata": {
        "id": "oCHgm08iPy-O"
      }
    },
    {
      "cell_type": "code",
      "source": [
        "def get_product_info():\n",
        "  product_info = {}\n",
        "\n",
        "  while True:\n",
        "    try:\n",
        "      product_info['name'] = str(input('Please enter product name: '))\n",
        "      product_info['price'] = float(input('Please enter product price: '))\n",
        "      product_info['quantity'] = int(input('Please enter product quantity: '))\n",
        "      break\n",
        "    except ValueError:\n",
        "      print('Invalid input. Please enter a numeric value for price and an integer value for quantity.')\n",
        "    except NameError:\n",
        "      print('Invalid input. Please enter a string value for name.')\n",
        "\n",
        "  return product_info\n",
        "\n",
        "get_product_info()"
      ],
      "metadata": {
        "colab": {
          "base_uri": "https://localhost:8080/"
        },
        "id": "W1e2cSERO0Gl",
        "outputId": "a2242da4-54ef-464c-f838-0ae6459cc543"
      },
      "execution_count": 31,
      "outputs": [
        {
          "name": "stdout",
          "output_type": "stream",
          "text": [
            "Please enter product name: corn\n",
            "Please enter product price: 80\n",
            "Please enter product quantity: 22\n"
          ]
        },
        {
          "output_type": "execute_result",
          "data": {
            "text/plain": [
              "{'name': 'corn', 'price': 80.0, 'quantity': 22}"
            ]
          },
          "metadata": {},
          "execution_count": 31
        }
      ]
    },
    {
      "cell_type": "markdown",
      "source": [
        "### Task 4\n",
        "- Write a function named **'get_even_numbers'** that takes a list of integers and returns a list of even numbers using list comprehension."
      ],
      "metadata": {
        "id": "dpei10RnWqFE"
      }
    },
    {
      "cell_type": "code",
      "source": [
        "def get_even_numbers(lst):\n",
        "  return [num for num in lst if num % 2 ==0]\n",
        "\n",
        "get_even_numbers([3, 5, 20, 30, 10, 9])"
      ],
      "metadata": {
        "colab": {
          "base_uri": "https://localhost:8080/"
        },
        "id": "U5Y4adh0RKKR",
        "outputId": "fe22d604-425e-4f64-f6e3-c0b9b5a5deec"
      },
      "execution_count": 37,
      "outputs": [
        {
          "output_type": "execute_result",
          "data": {
            "text/plain": [
              "[20, 30, 10]"
            ]
          },
          "metadata": {},
          "execution_count": 37
        }
      ]
    },
    {
      "cell_type": "markdown",
      "source": [
        "### Task 5\n",
        "- Write a function named **'pair_elements'** that takes two lists of equal length as parameters and returns a list of tuples, where each tuple contains corresponding elements from the two lists. Use the zip function to achieve this."
      ],
      "metadata": {
        "id": "XhHc8TH0WrE3"
      }
    },
    {
      "cell_type": "code",
      "source": [
        "def pair_elements(lst1, lst2):\n",
        "  return list(zip(lst1, lst2))\n",
        "\n",
        "pair_elements([3,4, 5], [2, 3])"
      ],
      "metadata": {
        "colab": {
          "base_uri": "https://localhost:8080/"
        },
        "id": "DtOuw4IyWrdy",
        "outputId": "f3486513-0f8b-4580-9656-a931df64f4f2"
      },
      "execution_count": 38,
      "outputs": [
        {
          "output_type": "execute_result",
          "data": {
            "text/plain": [
              "[(3, 2), (4, 3)]"
            ]
          },
          "metadata": {},
          "execution_count": 38
        }
      ]
    },
    {
      "cell_type": "markdown",
      "source": [
        "### Task 6\n",
        "- Write a function named **'square_dict_lambda'** that takes a list of integers and returns a dictionary where the keys are the integers and the values are their squares. Use a lambda function within a dictionary comprehension to achieve this."
      ],
      "metadata": {
        "id": "G7WPyjORWyax"
      }
    },
    {
      "cell_type": "code",
      "source": [
        "def square_dict_lambda(lst):\n",
        "  return {num: num**2 for num in lst}\n",
        "\n",
        "square_dict_lambda([3, 4, 8])\n",
        "\n"
      ],
      "metadata": {
        "colab": {
          "base_uri": "https://localhost:8080/"
        },
        "id": "odvQ-tUtWzdG",
        "outputId": "615bd27a-bd0e-4e44-b18b-b2428946f509"
      },
      "execution_count": 2,
      "outputs": [
        {
          "output_type": "execute_result",
          "data": {
            "text/plain": [
              "{3: 9, 4: 16, 8: 64}"
            ]
          },
          "metadata": {},
          "execution_count": 2
        }
      ]
    },
    {
      "cell_type": "code",
      "source": [],
      "metadata": {
        "id": "SQfBm3U8XGTI"
      },
      "execution_count": null,
      "outputs": []
    }
  ]
}